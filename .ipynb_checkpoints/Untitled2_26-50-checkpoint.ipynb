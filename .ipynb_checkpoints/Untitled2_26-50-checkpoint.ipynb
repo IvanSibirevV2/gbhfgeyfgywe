{
 "cells": [
  {
   "cell_type": "code",
   "execution_count": null,
   "id": "03e4fe62",
   "metadata": {},
   "outputs": [],
   "source": []
  }
 ],
 "metadata": {
  "kernelspec": {
   "display_name": "Python 3 (ipykernel)",
   "language": "python",
   "name": "python3"
  }
 },
 "nbformat": 4,
 "nbformat_minor": 5
}
